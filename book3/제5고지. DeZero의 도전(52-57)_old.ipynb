{
 "cells": [
  {
   "cell_type": "markdown",
   "metadata": {},
   "source": [
    "# 52. GPU 지원\n",
    "\n",
    "- 병렬 계산에는 GPU가 훨씬 뛰어나므로 이번 단계에서는 GPU에서 구동하기 위한 구조를 만들 것임"
   ]
  },
  {
   "cell_type": "markdown",
   "metadata": {},
   "source": [
    "## 52.1 쿠파이 설치 및 사용 방법\n",
    "\n",
    "- 쿠파이는 GPU를 활용하여 병렬 계산을 해주는 라이브러리\n",
    "- \\$ pip install cupy\n",
    "- DeZero에서 넘파이를 사용하는 부분을 쿠파이로 바꾸면 됨\n",
    "    - ```import numpy as np```\n",
    "    - ```import cupy as cp```"
   ]
  },
  {
   "cell_type": "markdown",
   "metadata": {},
   "source": [
    "## 52.2 쿠다 모듈\n",
    "\n",
    "- 쿠파이 관련 함수는 cuda.py에 모아둠"
   ]
  },
  {
   "cell_type": "code",
   "execution_count": null,
   "metadata": {},
   "outputs": [],
   "source": [
    "import numpy as np\n",
    "gpu_enable = True\n",
    "try:\n",
    "    import cupy as cp\n",
    "    cupy = cp\n",
    "except ImportError:\n",
    "    gpu_enable = False\n",
    "from dezero import Variable"
   ]
  },
  {
   "cell_type": "code",
   "execution_count": null,
   "metadata": {},
   "outputs": [],
   "source": [
    "def get_array_module(x):\n",
    "    \"\"\"Returns the array module for `x`.\n",
    "    Args:\n",
    "        x (dezero.Variable or numpy.ndarray or cupy.ndarray): Values to\n",
    "            determine whether NumPy or CuPy should be used.\n",
    "    Returns:\n",
    "        module: `cupy` or `numpy` is returned based on the argument.\n",
    "    \"\"\"\n",
    "    if isinstance(x, Variable):\n",
    "        x = x.data\n",
    "\n",
    "    if not gpu_enable:\n",
    "        return np\n",
    "    xp = cp.get_array_module(x)\n",
    "    return xp\n",
    "\n",
    "\n",
    "def as_numpy(x):\n",
    "    \"\"\"Convert to `numpy.ndarray`.\n",
    "    Args:\n",
    "        x (`numpy.ndarray` or `cupy.ndarray`): Arbitrary object that can be\n",
    "            converted to `numpy.ndarray`.\n",
    "    Returns:\n",
    "        `numpy.ndarray`: Converted array.\n",
    "    \"\"\"\n",
    "    if isinstance(x, Variable):\n",
    "        x = x.data\n",
    "\n",
    "    if np.isscalar(x):\n",
    "        return np.array(x)\n",
    "    elif isinstance(x, np.ndarray):\n",
    "        return x\n",
    "    return cp.asnumpy(x)\n",
    "\n",
    "\n",
    "def as_cupy(x):\n",
    "    \"\"\"Convert to `cupy.ndarray`.\n",
    "    Args:\n",
    "        x (`numpy.ndarray` or `cupy.ndarray`): Arbitrary object that can be\n",
    "            converted to `cupy.ndarray`.\n",
    "    Returns:\n",
    "        `cupy.ndarray`: Converted array.\n",
    "    \"\"\"\n",
    "    if isinstance(x, Variable):\n",
    "        x = x.data\n",
    "\n",
    "    if not gpu_enable:\n",
    "        raise Exception('CuPy cannot be loaded. Install CuPy!')\n",
    "    return cp.asarray(x)"
   ]
  },
  {
   "cell_type": "markdown",
   "metadata": {},
   "source": [
    "## 52.3 Variable/Layer/DataLoader 클래스 추가 구현\n",
    "\n",
    "- DeZero의 다른 클래스들에 GPU 대응 기능을 추가함"
   ]
  },
  {
   "cell_type": "code",
   "execution_count": null,
   "metadata": {},
   "outputs": [],
   "source": [
    "...\n",
    "try:\n",
    "    import cupy\n",
    "    array_types = (np.ndarray, cupy.ndarray)\n",
    "except ImportError:\n",
    "    array_types = (np.ndarray)  # (1)\n",
    "\n",
    "\n",
    "class Variable:\n",
    "    __array_priority__ = 200\n",
    "\n",
    "    def __init__(self, data, name=None):\n",
    "        if data is not None:\n",
    "            if not isinstance(data, array_types):  # (1)\n",
    "                raise TypeError('{} is not supported'.format(type(data)))\n",
    "...\n",
    "    def backward(self, retain_grad=False, create_graph=False):\n",
    "        if self.grad is None:\n",
    "            xp = dezero.cuda.get_array_module(self.data)  # (2)\n",
    "            self.grad = Variable(xp.ones_like(self.data))"
   ]
  },
  {
   "cell_type": "code",
   "execution_count": null,
   "metadata": {},
   "outputs": [],
   "source": [
    "class Variable:\n",
    "    ...\n",
    "    def to_cpu(self):\n",
    "        if self.data is not None:\n",
    "            self.data = dezero.cuda.as_numpy(self.data)\n",
    "\n",
    "    def to_gpu(self):\n",
    "        if self.data is not None:\n",
    "            self.data = dezero.cuda.as_cupy(self.data)"
   ]
  },
  {
   "cell_type": "code",
   "execution_count": null,
   "metadata": {},
   "outputs": [],
   "source": [
    "class Layer:\n",
    "    ...\n",
    "    def to_cpu(self):\n",
    "        for param in self.params():\n",
    "            param.to_cpu()\n",
    "\n",
    "    def to_gpu(self):\n",
    "        for param in self.params():\n",
    "            param.to_gpu()"
   ]
  },
  {
   "cell_type": "code",
   "execution_count": null,
   "metadata": {},
   "outputs": [],
   "source": [
    "...\n",
    "import numpy as np\n",
    "from dezero import cuda\n",
    "\n",
    "class DataLoader:\n",
    "    def __init__(self, dataset, batch_size, shuffle=True, gpu=False):\n",
    "        self.dataset = dataset\n",
    "        self.batch_size = batch_size\n",
    "        self.shuffle = shuffle\n",
    "        self.data_size = len(dataset)\n",
    "        self.max_iter = math.ceil(self.data_size / batch_size)\n",
    "        self.gpu = gpu\n",
    "\n",
    "        self.reset()\n",
    "        \n",
    "    def __next__(self):\n",
    "        if self.iteration >= self.max_iter:\n",
    "            self.reset()\n",
    "            raise StopIteration\n",
    "\n",
    "        i, batch_size = self.iteration, self.batch_size\n",
    "        batch_index = self.index[i * batch_size:(i + 1) * batch_size]\n",
    "        batch = [self.dataset[i] for i in batch_index]\n",
    "\n",
    "        xp = cuda.cupy if self.gpu else np\n",
    "        x = xp.array([example[0] for example in batch])\n",
    "        t = xp.array([example[1] for example in batch])\n",
    "\n",
    "        self.iteration += 1\n",
    "        return x, t\n",
    "\n",
    "    def to_cpu(self):\n",
    "        self.gpu = False\n",
    "\n",
    "    def to_gpu(self):\n",
    "        self.gpu = True"
   ]
  },
  {
   "cell_type": "markdown",
   "metadata": {},
   "source": [
    "## 52.4 함수 추가 구현\n",
    "\n",
    "- GPU 대응과 관련하여 함수를 수정함"
   ]
  },
  {
   "cell_type": "code",
   "execution_count": null,
   "metadata": {},
   "outputs": [],
   "source": [
    "from dezero import cuda\n",
    "\n",
    "class Sin(Function):\n",
    "    def forward(self, x):\n",
    "        xp = cuda.get_array_module(x)\n",
    "        y = xp.sin(x)\n",
    "        return y\n",
    "\n",
    "    def backward(self, gy):\n",
    "        x, = self.inputs\n",
    "        gx = gy * cos(x)\n",
    "        return gx"
   ]
  },
  {
   "cell_type": "code",
   "execution_count": null,
   "metadata": {},
   "outputs": [],
   "source": [
    "def as_array(x, array_module=np):\n",
    "    if np.isscalar(x):\n",
    "        return array_module.array(x)\n",
    "    return x\n",
    "\n",
    "def add(x0, x1):\n",
    "    x1 = as_array(x1, dezero.cuda.get_array_module(x0.data))\n",
    "    return Add()(x0, x1)\n",
    "\n",
    "def mul(x0, x1):\n",
    "    x1 = as_array(x1, dezero.cuda.get_array_module(x0.data))\n",
    "    return Mul()(x0, x1)"
   ]
  },
  {
   "cell_type": "markdown",
   "metadata": {},
   "source": [
    "## 52.5 GPU로 MNIST 학습하기\n",
    "\n",
    "- MINST 학습 코드를 GPU에서 실행해 봅시다. "
   ]
  },
  {
   "cell_type": "code",
   "execution_count": null,
   "metadata": {},
   "outputs": [],
   "source": [
    "if '__file__' in globals():\n",
    "    import os, sys\n",
    "    sys.path.append(os.path.join(os.path.dirname(__file__), '..'))\n",
    "import time\n",
    "import dezero\n",
    "import dezero.functions as F\n",
    "from dezero import optimizers\n",
    "from dezero import DataLoader\n",
    "from dezero.models import MLP\n",
    "\n",
    "\n",
    "max_epoch = 5\n",
    "batch_size = 100\n",
    "\n",
    "train_set = dezero.datasets.MNIST(train=True)\n",
    "train_loader = DataLoader(train_set, batch_size)\n",
    "model = MLP((1000, 10))\n",
    "optimizer = optimizers.SGD().setup(model)\n",
    "\n",
    "# GPU mode\n",
    "if dezero.cuda.gpu_enable:\n",
    "    train_loader.to_gpu()\n",
    "    model.to_gpu()\n",
    "\n",
    "for epoch in range(max_epoch):\n",
    "    start = time.time()\n",
    "    sum_loss = 0\n",
    "\n",
    "    for x, t in train_loader:\n",
    "        y = model(x)\n",
    "        loss = F.softmax_cross_entropy(y, t)\n",
    "        model.cleargrads()\n",
    "        loss.backward()\n",
    "        optimizer.update()\n",
    "        sum_loss += float(loss.data) * len(t)\n",
    "\n",
    "    elapsed_time = time.time() - start\n",
    "    print('epoch: {}, loss: {:.4f}, time: {:.4f}[sec]'.format(\n",
    "        epoch + 1, sum_loss / len(train_set), elapsed_time))\n"
   ]
  },
  {
   "cell_type": "markdown",
   "metadata": {},
   "source": [
    "\n",
    "\n",
    "<img src=\"image/그림52-1.png\" width=\"50%\" height=\"50%\"></img>  "
   ]
  },
  {
   "cell_type": "markdown",
   "metadata": {},
   "source": [
    "# 53. 모델 저장 및 읽어오기\n",
    "- "
   ]
  },
  {
   "cell_type": "code",
   "execution_count": null,
   "metadata": {},
   "outputs": [],
   "source": []
  },
  {
   "cell_type": "markdown",
   "metadata": {},
   "source": [
    "## 53.1 넘파이의 save 함수와 load 함수\n",
    "- "
   ]
  },
  {
   "cell_type": "code",
   "execution_count": null,
   "metadata": {},
   "outputs": [],
   "source": []
  },
  {
   "cell_type": "markdown",
   "metadata": {},
   "source": [
    "## 53.2 Layer 클래스의 매개변수를 평형하게\n",
    "- \n",
    "\n",
    "<img src=\"image/그림53-1.png\" width=\"50%\" height=\"50%\"></img>  "
   ]
  },
  {
   "cell_type": "code",
   "execution_count": null,
   "metadata": {},
   "outputs": [],
   "source": []
  },
  {
   "cell_type": "markdown",
   "metadata": {},
   "source": [
    "## 53.3 Layer 클래스의 save 함수와 load 함수\n",
    "- "
   ]
  },
  {
   "cell_type": "code",
   "execution_count": null,
   "metadata": {},
   "outputs": [],
   "source": []
  },
  {
   "cell_type": "code",
   "execution_count": null,
   "metadata": {},
   "outputs": [],
   "source": []
  },
  {
   "cell_type": "code",
   "execution_count": null,
   "metadata": {},
   "outputs": [],
   "source": [
    "if '__file__' in globals():\n",
    "    import os, sys\n",
    "    sys.path.append(os.path.join(os.path.dirname(__file__), '..'))\n",
    "import dezero\n",
    "import dezero.functions as F\n",
    "from dezero import optimizers\n",
    "from dezero import DataLoader\n",
    "from dezero.models import MLP\n",
    "\n",
    "\n",
    "max_epoch = 3\n",
    "batch_size = 100\n",
    "\n",
    "train_set = dezero.datasets.MNIST(train=True)\n",
    "train_loader = DataLoader(train_set, batch_size)\n",
    "model = MLP((1000, 10))\n",
    "optimizer = optimizers.SGD().setup(model)\n",
    "\n",
    "if os.path.exists('my_mlp.npz'):\n",
    "    model.load_weights('my_mlp.npz')\n",
    "\n",
    "for epoch in range(max_epoch):\n",
    "    sum_loss = 0\n",
    "\n",
    "    for x, t in train_loader:\n",
    "        y = model(x)\n",
    "        loss = F.softmax_cross_entropy(y, t)\n",
    "        model.cleargrads()\n",
    "        loss.backward()\n",
    "        optimizer.update()\n",
    "        sum_loss += float(loss.data) * len(t)\n",
    "\n",
    "    print('epoch: {}, loss: {:.4f}'.format(\n",
    "        epoch + 1, sum_loss / len(train_set)))\n",
    "\n",
    "model.save_weights('my_mlp.npz')\n"
   ]
  },
  {
   "cell_type": "markdown",
   "metadata": {},
   "source": [
    "# 54. 드롭아웃과 테스트 모드\n",
    "- "
   ]
  },
  {
   "cell_type": "code",
   "execution_count": null,
   "metadata": {},
   "outputs": [],
   "source": []
  },
  {
   "cell_type": "markdown",
   "metadata": {},
   "source": [
    "## 54.1  드롭아웃이란\n",
    "- \n",
    "\n",
    "\n",
    "<img src=\"image/그림54-1.png\" width=\"50%\" height=\"50%\"></img>  "
   ]
  },
  {
   "cell_type": "code",
   "execution_count": null,
   "metadata": {},
   "outputs": [],
   "source": []
  },
  {
   "cell_type": "markdown",
   "metadata": {},
   "source": [
    "## 54.2 역 드롭아웃\n",
    "- "
   ]
  },
  {
   "cell_type": "code",
   "execution_count": null,
   "metadata": {},
   "outputs": [],
   "source": []
  },
  {
   "cell_type": "markdown",
   "metadata": {},
   "source": [
    "## 54.3 테스트 모드 추가\n",
    "- "
   ]
  },
  {
   "cell_type": "code",
   "execution_count": null,
   "metadata": {},
   "outputs": [],
   "source": []
  },
  {
   "cell_type": "markdown",
   "metadata": {},
   "source": [
    "## 54.4 드롭아웃 구현\n",
    "- "
   ]
  },
  {
   "cell_type": "code",
   "execution_count": null,
   "metadata": {},
   "outputs": [],
   "source": []
  },
  {
   "cell_type": "code",
   "execution_count": null,
   "metadata": {},
   "outputs": [],
   "source": [
    "if '__file__' in globals():\n",
    "    import os, sys\n",
    "    sys.path.append(os.path.join(os.path.dirname(__file__), '..'))\n",
    "import numpy as np\n",
    "from dezero import test_mode\n",
    "import dezero.functions as F\n",
    "\n",
    "x = np.ones(5)\n",
    "print(x)\n",
    "\n",
    "# When training\n",
    "y = F.dropout(x)\n",
    "print(y)\n",
    "\n",
    "# When testing (predicting)\n",
    "with test_mode():\n",
    "    y = F.dropout(x)\n",
    "    print(y)"
   ]
  },
  {
   "cell_type": "markdown",
   "metadata": {},
   "source": [
    "# 55. CNN 메커니즘(1)\n",
    "- "
   ]
  },
  {
   "cell_type": "code",
   "execution_count": null,
   "metadata": {},
   "outputs": [],
   "source": []
  },
  {
   "cell_type": "markdown",
   "metadata": {},
   "source": [
    "## 55.1 CNN 신경망의 구조\n",
    "- \n",
    "\n",
    "<img src=\"image/그림55-1.png\" width=\"50%\" height=\"50%\"></img>  "
   ]
  },
  {
   "cell_type": "code",
   "execution_count": null,
   "metadata": {},
   "outputs": [],
   "source": []
  },
  {
   "cell_type": "markdown",
   "metadata": {},
   "source": [
    "## 55.2 합성곱 연산\n",
    "- \n",
    "\n",
    "\n",
    "<img src=\"image/그림55-2.png\" width=\"50%\" height=\"50%\"></img>  \n",
    "\n",
    "<img src=\"image/그림55-3.png\" width=\"50%\" height=\"50%\"></img>  \n",
    "\n",
    "<img src=\"image/그림55-4.png\" width=\"50%\" height=\"50%\"></img>  "
   ]
  },
  {
   "cell_type": "code",
   "execution_count": null,
   "metadata": {},
   "outputs": [],
   "source": []
  },
  {
   "cell_type": "markdown",
   "metadata": {},
   "source": [
    "## 55.3 패딩\n",
    "- \n",
    "\n",
    "\n",
    "<img src=\"image/그림55-5.png\" width=\"50%\" height=\"50%\"></img>  "
   ]
  },
  {
   "cell_type": "code",
   "execution_count": null,
   "metadata": {},
   "outputs": [],
   "source": []
  },
  {
   "cell_type": "markdown",
   "metadata": {},
   "source": [
    "## 55.4 스트라이드\n",
    "- \n",
    "\n",
    "\n",
    "<img src=\"image/그림55-6.png\" width=\"50%\" height=\"50%\"></img>  "
   ]
  },
  {
   "cell_type": "code",
   "execution_count": null,
   "metadata": {},
   "outputs": [],
   "source": []
  },
  {
   "cell_type": "markdown",
   "metadata": {},
   "source": [
    "## 55.5 출력 크기 계산 방법\n",
    "- "
   ]
  },
  {
   "cell_type": "code",
   "execution_count": null,
   "metadata": {},
   "outputs": [],
   "source": []
  },
  {
   "cell_type": "code",
   "execution_count": null,
   "metadata": {},
   "outputs": [],
   "source": []
  },
  {
   "cell_type": "code",
   "execution_count": null,
   "metadata": {},
   "outputs": [],
   "source": [
    "def get_conv_outsize(input_size, kernel_size, stride, pad):\n",
    "    return (input_size + pad * 2 - kernel_size) // stride + 1\n",
    "\n",
    "\n",
    "H, W = 4, 4  # Input size\n",
    "KH, KW = 3, 3  # Kernel size\n",
    "SH, SW = 1, 1  # Kernel stride\n",
    "PH, PW = 1, 1  # Padding size\n",
    "\n",
    "OH = get_conv_outsize(H, KH, SH, PH)\n",
    "OW = get_conv_outsize(W, KW, SW, PW)\n",
    "print(OH, OW)\n"
   ]
  },
  {
   "cell_type": "markdown",
   "metadata": {},
   "source": [
    "# 56. CNN 메커니즘(2)\n",
    "- "
   ]
  },
  {
   "cell_type": "code",
   "execution_count": null,
   "metadata": {},
   "outputs": [],
   "source": []
  },
  {
   "cell_type": "markdown",
   "metadata": {},
   "source": [
    "## 56.1 3차원 텐서\n",
    "- \n",
    "\n",
    "<img src=\"image/그림56-1.png\" width=\"50%\" height=\"50%\"></img>  "
   ]
  },
  {
   "cell_type": "code",
   "execution_count": null,
   "metadata": {},
   "outputs": [],
   "source": []
  },
  {
   "cell_type": "markdown",
   "metadata": {},
   "source": [
    "## 56.2 블록으로 생각하기\n",
    "- \n",
    "\n",
    "<img src=\"image/그림56-2.png\" width=\"50%\" height=\"50%\"></img>  \n",
    "\n",
    "<img src=\"image/그림56-3.png\" width=\"50%\" height=\"50%\"></img>  \n",
    "\n",
    "<img src=\"image/그림56-4.png\" width=\"50%\" height=\"50%\"></img>  "
   ]
  },
  {
   "cell_type": "code",
   "execution_count": null,
   "metadata": {},
   "outputs": [],
   "source": []
  },
  {
   "cell_type": "markdown",
   "metadata": {},
   "source": [
    "## 56.3 미니배치 처리\n",
    "- \n",
    "\n",
    "<img src=\"image/그림56-5.png\" width=\"50%\" height=\"50%\"></img>  "
   ]
  },
  {
   "cell_type": "code",
   "execution_count": null,
   "metadata": {},
   "outputs": [],
   "source": []
  },
  {
   "cell_type": "markdown",
   "metadata": {},
   "source": [
    "## 56.4 풀링 층\n",
    "\n",
    "- \n",
    "\n",
    "<img src=\"image/그림56-6.png\" width=\"50%\" height=\"50%\"></img>  \n",
    "\n",
    "<img src=\"image/그림56-7.png\" width=\"50%\" height=\"50%\"></img>  \n",
    "\n",
    "<img src=\"image/그림56-8.png\" width=\"50%\" height=\"50%\"></img>  "
   ]
  },
  {
   "cell_type": "code",
   "execution_count": null,
   "metadata": {},
   "outputs": [],
   "source": []
  },
  {
   "cell_type": "markdown",
   "metadata": {},
   "source": [
    "# 57. conv2d 함수와 pooling 함수\n",
    "\n",
    "- "
   ]
  },
  {
   "cell_type": "code",
   "execution_count": null,
   "metadata": {},
   "outputs": [],
   "source": []
  },
  {
   "cell_type": "markdown",
   "metadata": {},
   "source": [
    "## 57.1 im2col에 의한 전개\n",
    "- \n",
    "\n",
    "<img src=\"image/그림57-1.png\" width=\"50%\" height=\"50%\"></img>  \n",
    "\n",
    "<img src=\"image/그림57-2.png\" width=\"50%\" height=\"50%\"></img>  "
   ]
  },
  {
   "cell_type": "code",
   "execution_count": null,
   "metadata": {},
   "outputs": [],
   "source": []
  },
  {
   "cell_type": "markdown",
   "metadata": {},
   "source": [
    "## 57.2 conv2d 함수 구현\n",
    "\n",
    "- \n",
    "\n",
    "<img src=\"image/표57-1.png\" width=\"50%\" height=\"50%\"></img>  \n",
    "\n",
    "<img src=\"image/그림57-3.png\" width=\"50%\" height=\"50%\"></img>  "
   ]
  },
  {
   "cell_type": "code",
   "execution_count": null,
   "metadata": {},
   "outputs": [],
   "source": []
  },
  {
   "cell_type": "markdown",
   "metadata": {},
   "source": [
    "## 57.3 Conv2d 계층 구현\n",
    "- \n",
    "\n",
    "<img src=\"image/표57-2.png\" width=\"50%\" height=\"50%\"></img>  "
   ]
  },
  {
   "cell_type": "code",
   "execution_count": null,
   "metadata": {},
   "outputs": [],
   "source": []
  },
  {
   "cell_type": "markdown",
   "metadata": {},
   "source": [
    "## 57.4 pooling 함수 구현\n",
    "\n",
    "- \n",
    "\n",
    "<img src=\"image/그림57-4.png\" width=\"50%\" height=\"50%\"></img>  \n",
    "\n",
    "<img src=\"image/그림57-5.png\" width=\"50%\" height=\"50%\"></img>  "
   ]
  },
  {
   "cell_type": "code",
   "execution_count": null,
   "metadata": {},
   "outputs": [],
   "source": []
  },
  {
   "cell_type": "code",
   "execution_count": null,
   "metadata": {},
   "outputs": [],
   "source": []
  },
  {
   "cell_type": "code",
   "execution_count": null,
   "metadata": {},
   "outputs": [],
   "source": [
    "if '__file__' in globals():\n",
    "    import os, sys\n",
    "    sys.path.append(os.path.join(os.path.dirname(__file__), '..'))\n",
    "import numpy as np\n",
    "from dezero import Variable\n",
    "import dezero.functions as F\n",
    "\n",
    "\n",
    "# im2col\n",
    "x1 = np.random.rand(1, 3, 7, 7)\n",
    "col1 = F.im2col(x1, kernel_size=5, stride=1, pad=0, to_matrix=True)\n",
    "print(col1.shape)  # (9, 75)\n",
    "\n",
    "x2 = np.random.rand(10, 3, 7, 7)  # 10個のデータ\n",
    "kernel_size = (5, 5)\n",
    "stride = (1, 1)\n",
    "pad = (0, 0)\n",
    "col2 = F.im2col(x2, kernel_size, stride, pad, to_matrix=True)\n",
    "print(col2.shape)  # (90, 75)\n",
    "\n",
    "\n",
    "# conv2d\n",
    "N, C, H, W = 1, 5, 15, 15\n",
    "OC, (KH, KW) = 8, (3, 3)\n",
    "x = Variable(np.random.randn(N, C, H, W))\n",
    "W = np.random.randn(OC, C, KH, KW)\n",
    "y = F.conv2d_simple(x, W, b=None, stride=1, pad=1)\n",
    "y.backward()\n",
    "print(y.shape)  # (1, 8, 15, 15)\n",
    "print(x.grad.shape)  # (1, 5, 15, 15)\n"
   ]
  }
 ],
 "metadata": {
  "kernelspec": {
   "display_name": "aiffel",
   "language": "python",
   "name": "aiffel"
  },
  "language_info": {
   "codemirror_mode": {
    "name": "ipython",
    "version": 3
   },
   "file_extension": ".py",
   "mimetype": "text/x-python",
   "name": "python",
   "nbconvert_exporter": "python",
   "pygments_lexer": "ipython3",
   "version": "3.7.6"
  }
 },
 "nbformat": 4,
 "nbformat_minor": 4
}
