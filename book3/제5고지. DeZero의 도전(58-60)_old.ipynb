{
 "cells": [
  {
   "cell_type": "markdown",
   "metadata": {},
   "source": [
    "# 58. 대표적인 CNN(VGG16)\n",
    "- "
   ]
  },
  {
   "cell_type": "code",
   "execution_count": null,
   "metadata": {},
   "outputs": [],
   "source": []
  },
  {
   "cell_type": "markdown",
   "metadata": {},
   "source": [
    "## 58.1 VGG16 구현\n",
    "- \n",
    "\n",
    "\n",
    "<img src=\"image/그림58-1.png\" width=\"50%\" height=\"50%\"></img>  "
   ]
  },
  {
   "cell_type": "code",
   "execution_count": null,
   "metadata": {},
   "outputs": [],
   "source": []
  },
  {
   "cell_type": "markdown",
   "metadata": {},
   "source": [
    "## 58.2 학습된 가중치 데이터\n",
    "- \n",
    "\n",
    "\n",
    "<img src=\"image/그림58-2.png\" width=\"50%\" height=\"50%\"></img>  "
   ]
  },
  {
   "cell_type": "code",
   "execution_count": null,
   "metadata": {},
   "outputs": [],
   "source": []
  },
  {
   "cell_type": "markdown",
   "metadata": {},
   "source": [
    "## 58.3 학습된 VGG16 사용하기\n",
    "- \n",
    "\n",
    "\n",
    "<img src=\"image/그림58-3.png\" width=\"50%\" height=\"50%\"></img>  "
   ]
  },
  {
   "cell_type": "code",
   "execution_count": null,
   "metadata": {},
   "outputs": [],
   "source": []
  },
  {
   "cell_type": "code",
   "execution_count": null,
   "metadata": {},
   "outputs": [],
   "source": []
  },
  {
   "cell_type": "code",
   "execution_count": null,
   "metadata": {},
   "outputs": [],
   "source": [
    "if '__file__' in globals():\n",
    "    import os, sys\n",
    "    sys.path.append(os.path.join(os.path.dirname(__file__), '..'))\n",
    "import numpy as np\n",
    "from PIL import Image\n",
    "import dezero\n",
    "from dezero.models import VGG16\n",
    "\n",
    "\n",
    "url = 'https://github.com/oreilly-japan/deep-learning-from-scratch-3/raw/images/zebra.jpg'\n",
    "img_path = dezero.utils.get_file(url)\n",
    "img = Image.open(img_path)\n",
    "\n",
    "x = VGG16.preprocess(img)\n",
    "x = x[np.newaxis]\n",
    "\n",
    "model = VGG16(pretrained=True)\n",
    "with dezero.test_mode():\n",
    "    y = model(x)\n",
    "predict_id = np.argmax(y.data)\n",
    "\n",
    "model.plot(x, to_file='vgg.pdf')\n",
    "labels = dezero.datasets.ImageNet.labels()\n",
    "print(labels[predict_id])\n"
   ]
  },
  {
   "cell_type": "markdown",
   "metadata": {},
   "source": [
    "# 59. RNN을 활용한 시계열 데이터 처리\n",
    "- \n",
    "\n",
    "\n",
    "<img src=\"image/그림59-1.png\" width=\"50%\" height=\"50%\"></img>  "
   ]
  },
  {
   "cell_type": "code",
   "execution_count": null,
   "metadata": {},
   "outputs": [],
   "source": []
  },
  {
   "cell_type": "markdown",
   "metadata": {},
   "source": [
    "## 59.1 RNN 계층 구현\n",
    "- \n",
    "\n",
    "<img src=\"image/식59.1.png\" width=\"50%\" height=\"50%\"></img>  \n",
    "\n",
    "<img src=\"image/그림59-2.png\" width=\"50%\" height=\"50%\"></img>  \n",
    "\n",
    "<img src=\"image/그림59-3.png\" width=\"50%\" height=\"50%\"></img>  "
   ]
  },
  {
   "cell_type": "code",
   "execution_count": null,
   "metadata": {},
   "outputs": [],
   "source": []
  },
  {
   "cell_type": "markdown",
   "metadata": {},
   "source": [
    "## 59.2 RNN 모델 구현\n",
    "- \n",
    "\n",
    "<img src=\"image/그림59-4.png\" width=\"50%\" height=\"50%\"></img>  \n",
    "\n",
    "<img src=\"image/그림59-5.png\" width=\"50%\" height=\"50%\"></img>  "
   ]
  },
  {
   "cell_type": "code",
   "execution_count": null,
   "metadata": {},
   "outputs": [],
   "source": []
  },
  {
   "cell_type": "markdown",
   "metadata": {},
   "source": [
    "## 59.3 '연결'을 끊어주는 메서드\n",
    "- "
   ]
  },
  {
   "cell_type": "code",
   "execution_count": null,
   "metadata": {},
   "outputs": [],
   "source": []
  },
  {
   "cell_type": "markdown",
   "metadata": {},
   "source": [
    "## 59.4 사인파 예측\n",
    "- \n",
    "\n",
    "<img src=\"image/그림59-6.png\" width=\"50%\" height=\"50%\"></img>  \n",
    "\n",
    "<img src=\"image/그림59-7.png\" width=\"50%\" height=\"50%\"></img>  "
   ]
  },
  {
   "cell_type": "code",
   "execution_count": null,
   "metadata": {},
   "outputs": [],
   "source": []
  },
  {
   "cell_type": "code",
   "execution_count": null,
   "metadata": {},
   "outputs": [],
   "source": []
  },
  {
   "cell_type": "code",
   "execution_count": null,
   "metadata": {},
   "outputs": [],
   "source": [
    "if '__file__' in globals():\n",
    "    import os, sys\n",
    "    sys.path.append(os.path.join(os.path.dirname(__file__), '..'))\n",
    "import numpy as np\n",
    "import matplotlib.pyplot as plt\n",
    "import dezero\n",
    "from dezero import Model\n",
    "import dezero.functions as F\n",
    "import dezero.layers as L\n",
    "\n",
    "# Hyperparameters\n",
    "max_epoch = 100\n",
    "hidden_size = 100\n",
    "bptt_length = 30\n",
    "\n",
    "train_set = dezero.datasets.SinCurve(train=True)\n",
    "seqlen = len(train_set)\n",
    "\n",
    "\n",
    "class SimpleRNN(Model):\n",
    "    def __init__(self, hidden_size, out_size):\n",
    "        super().__init__()\n",
    "        self.rnn = L.RNN(hidden_size)\n",
    "        self.fc = L.Linear(out_size)\n",
    "\n",
    "    def reset_state(self):\n",
    "        self.rnn.reset_state()\n",
    "\n",
    "    def __call__(self, x):\n",
    "        h = self.rnn(x)\n",
    "        y = self.fc(h)\n",
    "        return y\n",
    "\n",
    "\n",
    "model = SimpleRNN(hidden_size, 1)\n",
    "optimizer = dezero.optimizers.Adam().setup(model)\n",
    "\n",
    "# Start training.\n",
    "for epoch in range(max_epoch):\n",
    "    model.reset_state()\n",
    "    loss, count = 0, 0\n",
    "\n",
    "    for x, t in train_set:\n",
    "        x = x.reshape(1, 1)\n",
    "        y = model(x)\n",
    "        loss += F.mean_squared_error(y, t)\n",
    "        count += 1\n",
    "\n",
    "        if count % bptt_length == 0 or count == seqlen:\n",
    "            model.cleargrads()\n",
    "            loss.backward()\n",
    "            loss.unchain_backward()\n",
    "            optimizer.update()\n",
    "\n",
    "    avg_loss = float(loss.data) / count\n",
    "    print('| epoch %d | loss %f' % (epoch + 1, avg_loss))\n",
    "\n",
    "# Plot\n",
    "xs = np.cos(np.linspace(0, 4 * np.pi, 1000))\n",
    "model.reset_state()\n",
    "pred_list = []\n",
    "\n",
    "with dezero.no_grad():\n",
    "    for x in xs:\n",
    "        x = np.array(x).reshape(1, 1)\n",
    "        y = model(x)\n",
    "        pred_list.append(float(y.data))\n",
    "\n",
    "plt.plot(np.arange(len(xs)), xs, label='y=cos(x)')\n",
    "plt.plot(np.arange(len(xs)), pred_list, label='predict')\n",
    "plt.xlabel('x')\n",
    "plt.ylabel('y')\n",
    "plt.legend()\n",
    "plt.show()"
   ]
  },
  {
   "cell_type": "markdown",
   "metadata": {},
   "source": [
    "# 60. LSTM과 데이터 로더\n",
    "- "
   ]
  },
  {
   "cell_type": "code",
   "execution_count": null,
   "metadata": {},
   "outputs": [],
   "source": []
  },
  {
   "cell_type": "markdown",
   "metadata": {},
   "source": [
    "## 60.1 시계열 데이터용 데이터 로더\n",
    "- "
   ]
  },
  {
   "cell_type": "code",
   "execution_count": null,
   "metadata": {},
   "outputs": [],
   "source": []
  },
  {
   "cell_type": "markdown",
   "metadata": {},
   "source": [
    "## 60.2 LSTM 계층 구현\n",
    "- \n",
    "\n",
    "![title](image/식60.1.png)\n",
    "\n",
    "![title](image/식60.2.png)\n",
    "\n",
    "![title](image/식60.3.png)\n",
    "\n",
    "![title](image/그림60-1.png)\n",
    "\n",
    "![title](image/그림60-2.png)\n",
    "\n",
    "<img src=\"image/식60.1.png\" width=\"50%\" height=\"50%\"></img>  \n",
    "\n",
    "<img src=\"image/식60.2.png\" width=\"50%\" height=\"50%\"></img>  \n",
    "\n",
    "<img src=\"image/식60.3.png\" width=\"50%\" height=\"50%\"></img>  \n",
    "\n",
    "<img src=\"image/그림60-1.png\" width=\"50%\" height=\"50%\"></img>  \n",
    "\n",
    "<img src=\"image/그림60-2.png\" width=\"50%\" height=\"50%\"></img>  "
   ]
  },
  {
   "cell_type": "code",
   "execution_count": null,
   "metadata": {},
   "outputs": [],
   "source": []
  },
  {
   "cell_type": "code",
   "execution_count": null,
   "metadata": {},
   "outputs": [],
   "source": []
  },
  {
   "cell_type": "code",
   "execution_count": null,
   "metadata": {},
   "outputs": [],
   "source": [
    "if '__file__' in globals():\n",
    "    import os, sys\n",
    "    sys.path.append(os.path.join(os.path.dirname(__file__), '..'))\n",
    "import numpy as np\n",
    "import matplotlib.pyplot as plt\n",
    "import dezero\n",
    "from dezero import Model\n",
    "from dezero import SeqDataLoader\n",
    "import dezero.functions as F\n",
    "import dezero.layers as L\n",
    "\n",
    "\n",
    "max_epoch = 100\n",
    "batch_size = 30\n",
    "hidden_size = 100\n",
    "bptt_length = 30\n",
    "\n",
    "train_set = dezero.datasets.SinCurve(train=True)\n",
    "dataloader = SeqDataLoader(train_set, batch_size=batch_size)\n",
    "seqlen = len(train_set)\n",
    "\n",
    "\n",
    "class BetterRNN(Model):\n",
    "    def __init__(self, hidden_size, out_size):\n",
    "        super().__init__()\n",
    "        self.rnn = L.LSTM(hidden_size)\n",
    "        self.fc = L.Linear(out_size)\n",
    "\n",
    "    def reset_state(self):\n",
    "        self.rnn.reset_state()\n",
    "\n",
    "    def __call__(self, x):\n",
    "        y = self.rnn(x)\n",
    "        y = self.fc(y)\n",
    "        return y\n",
    "\n",
    "model = BetterRNN(hidden_size, 1)\n",
    "optimizer = dezero.optimizers.Adam().setup(model)\n",
    "\n",
    "for epoch in range(max_epoch):\n",
    "    model.reset_state()\n",
    "    loss, count = 0, 0\n",
    "\n",
    "    for x, t in dataloader:\n",
    "        y = model(x)\n",
    "        loss += F.mean_squared_error(y, t)\n",
    "        count += 1\n",
    "\n",
    "        if count % bptt_length == 0 or count == seqlen:\n",
    "            model.cleargrads()\n",
    "            loss.backward()\n",
    "            loss.unchain_backward()\n",
    "            optimizer.update()\n",
    "    avg_loss = float(loss.data) / count\n",
    "    print('| epoch %d | loss %f' % (epoch + 1, avg_loss))\n",
    "\n",
    "# Plot\n",
    "xs = np.cos(np.linspace(0, 4 * np.pi, 1000))\n",
    "model.reset_state()\n",
    "pred_list = []\n",
    "\n",
    "with dezero.no_grad():\n",
    "    for x in xs:\n",
    "        x = np.array(x).reshape(1, 1)\n",
    "        y = model(x)\n",
    "        pred_list.append(float(y.data))\n",
    "\n",
    "plt.plot(np.arange(len(xs)), xs, label='y=cos(x)')\n",
    "plt.plot(np.arange(len(xs)), pred_list, label='predict')\n",
    "plt.xlabel('x')\n",
    "plt.ylabel('y')\n",
    "plt.legend()\n",
    "plt.show()\n"
   ]
  },
  {
   "cell_type": "markdown",
   "metadata": {},
   "source": [
    "## 컬럼: 앞으로 앞으로"
   ]
  },
  {
   "cell_type": "code",
   "execution_count": null,
   "metadata": {},
   "outputs": [],
   "source": []
  },
  {
   "cell_type": "markdown",
   "metadata": {},
   "source": [
    "# 구글 코랩에서 실행\n",
    "\n",
    "\n",
    "<img src=\"image/그림C-1.png\" width=\"50%\" height=\"50%\"></img>  "
   ]
  },
  {
   "cell_type": "code",
   "execution_count": null,
   "metadata": {},
   "outputs": [],
   "source": []
  }
 ],
 "metadata": {
  "kernelspec": {
   "display_name": "aiffel",
   "language": "python",
   "name": "aiffel"
  },
  "language_info": {
   "codemirror_mode": {
    "name": "ipython",
    "version": 3
   },
   "file_extension": ".py",
   "mimetype": "text/x-python",
   "name": "python",
   "nbconvert_exporter": "python",
   "pygments_lexer": "ipython3",
   "version": "3.7.6"
  }
 },
 "nbformat": 4,
 "nbformat_minor": 4
}
